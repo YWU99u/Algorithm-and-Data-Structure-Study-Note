{
 "cells": [
  {
   "cell_type": "code",
   "execution_count": 7,
   "id": "6d31331e",
   "metadata": {},
   "outputs": [],
   "source": [
    "## Without using str\n",
    "\n",
    "def isPalindrome(x:int):\n",
    "    orginial_x = x\n",
    "    if x<0 or (x % 10 == 0 and orginial_x != 0):\n",
    "        return False\n",
    "    rev_x = 0\n",
    "    while x!= 0:\n",
    "        rev_x = rev_x*10 + x%10\n",
    "        x //= 10\n",
    "    return True if rev_x == orginial_x else False"
   ]
  },
  {
   "cell_type": "code",
   "execution_count": 10,
   "id": "1eaeaf13",
   "metadata": {},
   "outputs": [
    {
     "data": {
      "text/plain": [
       "False"
      ]
     },
     "execution_count": 10,
     "metadata": {},
     "output_type": "execute_result"
    }
   ],
   "source": [
    "isPalindrome(121241)"
   ]
  },
  {
   "cell_type": "code",
   "execution_count": 20,
   "id": "df25c0a6",
   "metadata": {},
   "outputs": [],
   "source": [
    "# With str\n",
    "\n",
    "def isPalindrome(x:int)-> bool: return str(x) == str(x)[::-1]"
   ]
  },
  {
   "cell_type": "code",
   "execution_count": 21,
   "id": "c3bb021a",
   "metadata": {},
   "outputs": [
    {
     "data": {
      "text/plain": [
       "False"
      ]
     },
     "execution_count": 21,
     "metadata": {},
     "output_type": "execute_result"
    }
   ],
   "source": [
    "isPalindrome(121241)"
   ]
  },
  {
   "cell_type": "code",
   "execution_count": null,
   "id": "14fbe0c0",
   "metadata": {},
   "outputs": [],
   "source": []
  }
 ],
 "metadata": {
  "kernelspec": {
   "display_name": "Python 3 (ipykernel)",
   "language": "python",
   "name": "python3"
  },
  "language_info": {
   "codemirror_mode": {
    "name": "ipython",
    "version": 3
   },
   "file_extension": ".py",
   "mimetype": "text/x-python",
   "name": "python",
   "nbconvert_exporter": "python",
   "pygments_lexer": "ipython3",
   "version": "3.9.12"
  }
 },
 "nbformat": 4,
 "nbformat_minor": 5
}
