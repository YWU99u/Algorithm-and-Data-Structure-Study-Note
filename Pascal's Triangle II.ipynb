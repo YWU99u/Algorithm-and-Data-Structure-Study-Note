{
 "cells": [
  {
   "cell_type": "code",
   "execution_count": 6,
   "id": "2a94957e",
   "metadata": {},
   "outputs": [],
   "source": [
    "def getRow(rowIndex: int):\n",
    "    rowIndex+=1\n",
    "    result = [1]\n",
    "    if rowIndex == 1:\n",
    "        return result\n",
    "    else:\n",
    "        for i in range(2,rowIndex+1):\n",
    "            tmp = [1]\n",
    "            for j in range(len(result)-1):\n",
    "                tmp.append(result[j]+result[j+1])\n",
    "            tmp.append(1)\n",
    "            result = tmp\n",
    "    return result\n",
    "        "
   ]
  },
  {
   "cell_type": "code",
   "execution_count": 7,
   "id": "79cda9e1",
   "metadata": {},
   "outputs": [
    {
     "data": {
      "text/plain": [
       "[1, 3, 3, 1]"
      ]
     },
     "execution_count": 7,
     "metadata": {},
     "output_type": "execute_result"
    }
   ],
   "source": [
    "getRow(3)"
   ]
  },
  {
   "cell_type": "code",
   "execution_count": null,
   "id": "57a03150",
   "metadata": {},
   "outputs": [],
   "source": []
  }
 ],
 "metadata": {
  "kernelspec": {
   "display_name": "Python 3 (ipykernel)",
   "language": "python",
   "name": "python3"
  },
  "language_info": {
   "codemirror_mode": {
    "name": "ipython",
    "version": 3
   },
   "file_extension": ".py",
   "mimetype": "text/x-python",
   "name": "python",
   "nbconvert_exporter": "python",
   "pygments_lexer": "ipython3",
   "version": "3.9.12"
  }
 },
 "nbformat": 4,
 "nbformat_minor": 5
}
