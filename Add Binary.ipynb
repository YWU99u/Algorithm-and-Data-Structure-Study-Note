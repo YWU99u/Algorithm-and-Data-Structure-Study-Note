{
 "cells": [
  {
   "cell_type": "code",
   "execution_count": 44,
   "id": "81e17f40",
   "metadata": {},
   "outputs": [],
   "source": [
    "def addBinary(a: str, b: str) -> str:\n",
    "    return bin(int(b,2)+int(a,2))[2:]\n",
    "    "
   ]
  },
  {
   "cell_type": "code",
   "execution_count": 74,
   "id": "6f97cb27",
   "metadata": {},
   "outputs": [
    {
     "data": {
      "text/plain": [
       "'111'"
      ]
     },
     "execution_count": 74,
     "metadata": {},
     "output_type": "execute_result"
    }
   ],
   "source": [
    "a = \"10\"\n",
    "b = \"101\"\n",
    "addBinary(a,b)"
   ]
  },
  {
   "cell_type": "code",
   "execution_count": 76,
   "id": "8aaa2004",
   "metadata": {},
   "outputs": [],
   "source": [
    "##Binary adder solution"
   ]
  },
  {
   "cell_type": "code",
   "execution_count": 71,
   "id": "b85fc17f",
   "metadata": {},
   "outputs": [],
   "source": [
    "def one_bit_adder(a,b,cin):\n",
    "    sum_ = a^(b^cin)\n",
    "    cout = int(a and b)\n",
    "    return sum_,cout\n",
    "def zero_padding(a , padding):\n",
    "    for i in range(padding):\n",
    "        a+= '0'\n",
    "    return a\n",
    "def addBinary(a: str, b: str) -> str:\n",
    "    result = ''\n",
    "    a = a[::-1]\n",
    "    b = b[::-1]\n",
    "    cin=0\n",
    "    diff = len(a)-len(b)\n",
    "    if diff>0:\n",
    "        b = zero_padding(b,diff)\n",
    "    elif diff<0:\n",
    "        a = zero_padding(a,-diff)\n",
    "    else:\n",
    "        pass;\n",
    "    for i in range(len(a)):\n",
    "        sum_,cout = one_bit_adder(int(a[i]),int(b[i]),cin)\n",
    "        result += str(sum_)\n",
    "        cin = cout\n",
    "    if cout == 1:\n",
    "        result =result + '1'\n",
    "    return result[::-1]\n",
    "    \n",
    "    "
   ]
  },
  {
   "cell_type": "code",
   "execution_count": 75,
   "id": "62c97b59",
   "metadata": {},
   "outputs": [
    {
     "data": {
      "text/plain": [
       "'100'"
      ]
     },
     "execution_count": 75,
     "metadata": {},
     "output_type": "execute_result"
    }
   ],
   "source": [
    "a = \"10\"\n",
    "b = \"10\"\n",
    "addBinary(a,b)"
   ]
  },
  {
   "cell_type": "code",
   "execution_count": null,
   "id": "997ed818",
   "metadata": {},
   "outputs": [],
   "source": []
  }
 ],
 "metadata": {
  "kernelspec": {
   "display_name": "Python 3 (ipykernel)",
   "language": "python",
   "name": "python3"
  },
  "language_info": {
   "codemirror_mode": {
    "name": "ipython",
    "version": 3
   },
   "file_extension": ".py",
   "mimetype": "text/x-python",
   "name": "python",
   "nbconvert_exporter": "python",
   "pygments_lexer": "ipython3",
   "version": "3.9.12"
  }
 },
 "nbformat": 4,
 "nbformat_minor": 5
}
