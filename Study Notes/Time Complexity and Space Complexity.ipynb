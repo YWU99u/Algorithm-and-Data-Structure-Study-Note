{
 "cells": [
  {
   "cell_type": "markdown",
   "id": "9ed9c7fc",
   "metadata": {},
   "source": [
    "## Time Complexity\n",
    "- Is used to evaluate the efficiency of an algorithm\n",
    "1. `print(\"Hello Word\")` is O(1) <br>\n",
    "2. `for i in range(n)\n",
    "        print(i)` is O(n)\n",
    "    \n",
    "- If print many times (for instance 3 times), the complexity is not O(3) but O(1)\n",
    "1. `print('1')\n",
    "    print('2')` is O(1) but not O(2)\n",
    "2. `for i in range(n):\n",
    "        print('1')\n",
    "        for j in range(n):\n",
    "            print('2')`  is O(n^2) but not O(n^2+n)\n",
    "3. `while n>1:\n",
    "        print(n)\n",
    "        n//2`  is O(log(n))\n",
    "    noted that when the algo has a situation where the cases are reduced by half is usually log(n)\n",
    "- Conclusion:\n",
    "    - Time complexity is a evaluation of algo's efficiency (a unit)\n",
    "    - Time complexity goes up while the speed will be reduced (Generally depending on the machine)\n",
    "    - Trend: O(1) < O(log(n)) < O(n) < O(nlog(n)) < O(n^2) < O(n^2log(n)) < O(n^3)\n",
    "    - More time complexity: O(n!), O(2^n), O(n^n)"
   ]
  },
  {
   "cell_type": "markdown",
   "id": "7da4f775",
   "metadata": {},
   "source": [
    "## Space Complexity\n",
    "- Is used to evaluate the memory cost of a algo\n",
    "- Same expression as the time complexity\n",
    "    - Serveral variables: O(1)\n",
    "    - 1D list with lenth n: O(n)\n",
    "    - 2D list with dim n*m: O(mn)\n",
    "- In general, with the growth of computer memory, we normally use larger space to exchange for less time"
   ]
  }
 ],
 "metadata": {
  "kernelspec": {
   "display_name": "Python 3 (ipykernel)",
   "language": "python",
   "name": "python3"
  },
  "language_info": {
   "codemirror_mode": {
    "name": "ipython",
    "version": 3
   },
   "file_extension": ".py",
   "mimetype": "text/x-python",
   "name": "python",
   "nbconvert_exporter": "python",
   "pygments_lexer": "ipython3",
   "version": "3.9.12"
  }
 },
 "nbformat": 4,
 "nbformat_minor": 5
}
