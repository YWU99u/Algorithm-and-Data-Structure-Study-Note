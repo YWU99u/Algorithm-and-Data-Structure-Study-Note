{
 "cells": [
  {
   "attachments": {},
   "cell_type": "markdown",
   "id": "ca47d7ec",
   "metadata": {},
   "source": [
    "# Search Algos\n",
    "In a set of data, find the element which is the same as the spcified key word through a particular method\n",
    "\n",
    "## Linear Search\n",
    "- Find the specified element in a given list\n",
    "    - Inputs: List, Value\n",
    "    - Output: Index\n",
    "- Built-in function `index()`\n",
    "- Time Complexity: O(n)\n",
    "![image.png](https://bournetocode.com/projects/gcse_computing_fundamentals/pages/img/linear_search.gif)"
   ]
  },
  {
   "cell_type": "code",
   "execution_count": 1,
   "id": "57cdc38f",
   "metadata": {},
   "outputs": [],
   "source": [
    "def linear_search(li,val):\n",
    "    for idx,v in enumerate(li):\n",
    "        if v == val:\n",
    "            return idx\n",
    "    return None"
   ]
  },
  {
   "cell_type": "markdown",
   "id": "c61b78fa",
   "metadata": {},
   "source": [
    "## Binary Search\n",
    "- Require a **sorted** list\n",
    "- Reduce the li by half each time, compare the pivot with target\n",
    "    - if the pivot > target: set the left boundary to pivot + 1 and repeat \n",
    "    - if the pivot < target: set the right boundary to pivot - 1 and repeat \n",
    "- Time Complexity: O(log(n))\n",
    "![image.png](https://bournetocode.com/projects/gcse_computing_fundamentals/pages/img/binary_search.gif)"
   ]
  },
  {
   "cell_type": "code",
   "execution_count": 2,
   "id": "6240508f",
   "metadata": {},
   "outputs": [],
   "source": [
    "def binary_search(li,val):\n",
    "    left = 0\n",
    "    right = len(li)-1\n",
    "    while left <= right:\n",
    "        pivot = left + (right - left)//2\n",
    "        if li[pivot] > val:\n",
    "            right = pivot - 1\n",
    "        elif li[pivot] < val:\n",
    "            left = pivot + 1\n",
    "        else:\n",
    "            return pivot\n",
    "    return None #Did not find the target"
   ]
  },
  {
   "cell_type": "markdown",
   "id": "3a29ce77",
   "metadata": {},
   "source": [
    "## Comparison"
   ]
  },
  {
   "cell_type": "code",
   "execution_count": 3,
   "id": "f312d6b3",
   "metadata": {},
   "outputs": [],
   "source": [
    "import timeit\n",
    "import random"
   ]
  },
  {
   "cell_type": "code",
   "execution_count": 4,
   "id": "eeab51b6",
   "metadata": {},
   "outputs": [],
   "source": [
    "def createRandomSortedList(num, start = 1, end = 100):\n",
    "    arr = []\n",
    "    tmp = random.randint(start, end)\n",
    "      \n",
    "    for x in range(num):\n",
    "          \n",
    "        while tmp in arr:\n",
    "            tmp = random.randint(start, end)\n",
    "              \n",
    "        arr.append(tmp)\n",
    "          \n",
    "    arr.sort()\n",
    "      \n",
    "    return arr"
   ]
  },
  {
   "cell_type": "code",
   "execution_count": 5,
   "id": "62882461",
   "metadata": {},
   "outputs": [
    {
     "name": "stdout",
     "output_type": "stream",
     "text": [
      "Linear Search\n",
      "result:  27830\n",
      "Time:  0.002127290004864335\n",
      "Binar Search\n",
      "result:  27830\n",
      "Time:  0.001018995011691004\n"
     ]
    }
   ],
   "source": [
    "li = createRandomSortedList(30000,1,100000)\n",
    "val = li[27830]\n",
    "print('Linear Search')\n",
    "start = timeit.default_timer()\n",
    "print('result: ',linear_search(li,val))\n",
    "stop = timeit.default_timer()\n",
    "print('Time: ', stop - start)  \n",
    "\n",
    "print('Binar Search')\n",
    "start = timeit.default_timer()\n",
    "print('result: ',binary_search(li,val))\n",
    "stop = timeit.default_timer()\n",
    "print('Time: ', stop - start)  "
   ]
  },
  {
   "cell_type": "code",
   "execution_count": null,
   "id": "b83b308a",
   "metadata": {},
   "outputs": [],
   "source": []
  }
 ],
 "metadata": {
  "kernelspec": {
   "display_name": "Python 3 (ipykernel)",
   "language": "python",
   "name": "python3"
  },
  "language_info": {
   "codemirror_mode": {
    "name": "ipython",
    "version": 3
   },
   "file_extension": ".py",
   "mimetype": "text/x-python",
   "name": "python",
   "nbconvert_exporter": "python",
   "pygments_lexer": "ipython3",
   "version": "3.9.12"
  }
 },
 "nbformat": 4,
 "nbformat_minor": 5
}
