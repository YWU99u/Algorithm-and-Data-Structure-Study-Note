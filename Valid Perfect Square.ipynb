{
 "cells": [
  {
   "cell_type": "code",
   "execution_count": 7,
   "id": "ac18e8b1",
   "metadata": {},
   "outputs": [],
   "source": [
    "def isPerfectSquare(num: int) -> bool:\n",
    "    left = 0\n",
    "    right = num\n",
    "    while left <= right:\n",
    "        pivot = left + (right - left)//2\n",
    "        square = pivot * pivot\n",
    "        if square < num:\n",
    "            left = pivot + 1\n",
    "        elif square > num:\n",
    "            right = pivot - 1\n",
    "        else:\n",
    "            return True\n",
    "    return False"
   ]
  },
  {
   "cell_type": "code",
   "execution_count": 11,
   "id": "cee52a18",
   "metadata": {},
   "outputs": [
    {
     "data": {
      "text/plain": [
       "False"
      ]
     },
     "execution_count": 11,
     "metadata": {},
     "output_type": "execute_result"
    }
   ],
   "source": [
    "num = 2\n",
    "isPerfectSquare(num)"
   ]
  },
  {
   "cell_type": "code",
   "execution_count": null,
   "id": "d6a1206e",
   "metadata": {},
   "outputs": [],
   "source": []
  }
 ],
 "metadata": {
  "kernelspec": {
   "display_name": "Python 3 (ipykernel)",
   "language": "python",
   "name": "python3"
  },
  "language_info": {
   "codemirror_mode": {
    "name": "ipython",
    "version": 3
   },
   "file_extension": ".py",
   "mimetype": "text/x-python",
   "name": "python",
   "nbconvert_exporter": "python",
   "pygments_lexer": "ipython3",
   "version": "3.9.12"
  }
 },
 "nbformat": 4,
 "nbformat_minor": 5
}
