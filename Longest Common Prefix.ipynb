{
 "cells": [
  {
   "cell_type": "code",
   "execution_count": 80,
   "id": "4d64bbc7",
   "metadata": {},
   "outputs": [],
   "source": [
    "##Runtime 90ms"
   ]
  },
  {
   "cell_type": "code",
   "execution_count": 77,
   "id": "81fd29c3",
   "metadata": {},
   "outputs": [],
   "source": [
    "def longestCommonPrefix(strs) -> str:\n",
    "    count = len(strs[0])\n",
    "    result = \"\"\n",
    "    flag = 1\n",
    "    for s in strs:\n",
    "        if len(s) >=2:\n",
    "            flag = 0\n",
    "            break;\n",
    "    if flag:\n",
    "        if len(strs)==1:\n",
    "            return strs[0]\n",
    "        else:\n",
    "            for k in range(1,len(strs)):\n",
    "                if strs[k] != strs[0]:\n",
    "                    return \"\"\n",
    "            return strs[0]   \n",
    "    for i in range(count):\n",
    "        for j in range(1,len(strs)):\n",
    "            if len(strs[j])<i+1 or (strs[j][i] != strs[0][i]):\n",
    "                return result\n",
    "        result += strs[0][i]\n",
    "            \n",
    "    return result\n",
    "            \n",
    "            "
   ]
  },
  {
   "cell_type": "code",
   "execution_count": 79,
   "id": "3ad3f702",
   "metadata": {},
   "outputs": [
    {
     "data": {
      "text/plain": [
       "''"
      ]
     },
     "execution_count": 79,
     "metadata": {},
     "output_type": "execute_result"
    }
   ],
   "source": [
    "strs = [\"aac\",\"a\",\"ccc\"]\n",
    "longestCommonPrefix(strs)"
   ]
  },
  {
   "cell_type": "code",
   "execution_count": 49,
   "id": "27aa47ad",
   "metadata": {},
   "outputs": [
    {
     "data": {
      "text/plain": [
       "['a', 'a', 'c']"
      ]
     },
     "execution_count": 49,
     "metadata": {},
     "output_type": "execute_result"
    }
   ],
   "source": [
    "strs[:][:]"
   ]
  },
  {
   "cell_type": "code",
   "execution_count": 81,
   "id": "fe418e91",
   "metadata": {},
   "outputs": [
    {
     "ename": "TypeError",
     "evalue": "object of type 'bool' has no len()",
     "output_type": "error",
     "traceback": [
      "\u001b[0;31m---------------------------------------------------------------------------\u001b[0m",
      "\u001b[0;31mTypeError\u001b[0m                                 Traceback (most recent call last)",
      "Input \u001b[0;32mIn [81]\u001b[0m, in \u001b[0;36m<cell line: 1>\u001b[0;34m()\u001b[0m\n\u001b[0;32m----> 1\u001b[0m \u001b[38;5;28;43mlen\u001b[39;49m\u001b[43m(\u001b[49m\u001b[38;5;28;43many\u001b[39;49m\u001b[43m(\u001b[49m\u001b[43mstrs\u001b[49m\u001b[43m)\u001b[49m\u001b[43m)\u001b[49m\n",
      "\u001b[0;31mTypeError\u001b[0m: object of type 'bool' has no len()"
     ]
    }
   ],
   "source": [
    "len(any(strs))"
   ]
  },
  {
   "cell_type": "code",
   "execution_count": 82,
   "id": "09407d9d",
   "metadata": {},
   "outputs": [],
   "source": [
    "def longestCommonPrefix(strs) -> str:        \n",
    "        if len(strs)==0:\n",
    "            return \"\"\n",
    "        s= strs[0]\n",
    "        for i in range(1,len(strs)):\n",
    "            while strs[i][0:len(s)]!=s:\n",
    "                s=s[0:len(s)-1]\n",
    "                if len(s)==0:\n",
    "                    return \"\"\n",
    "        return s"
   ]
  },
  {
   "cell_type": "code",
   "execution_count": null,
   "id": "3bb7c795",
   "metadata": {},
   "outputs": [],
   "source": []
  }
 ],
 "metadata": {
  "kernelspec": {
   "display_name": "Python 3 (ipykernel)",
   "language": "python",
   "name": "python3"
  },
  "language_info": {
   "codemirror_mode": {
    "name": "ipython",
    "version": 3
   },
   "file_extension": ".py",
   "mimetype": "text/x-python",
   "name": "python",
   "nbconvert_exporter": "python",
   "pygments_lexer": "ipython3",
   "version": "3.9.12"
  }
 },
 "nbformat": 4,
 "nbformat_minor": 5
}
