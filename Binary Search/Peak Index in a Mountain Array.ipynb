{
 "cells": [
  {
   "cell_type": "code",
   "execution_count": 23,
   "id": "5f726055",
   "metadata": {},
   "outputs": [],
   "source": [
    "def peakIndexInMountainArray(arr: []) -> int:\n",
    "    left = 0\n",
    "    right = len(arr) -1\n",
    "    target = max(arr)\n",
    "    while left<=right:\n",
    "        pivot = left + (right - left)//2\n",
    "        if target == arr[pivot]:\n",
    "            return pivot\n",
    "        if target in arr[left:pivot]:\n",
    "            right = pivot -1\n",
    "        else:\n",
    "            left = pivot +1"
   ]
  },
  {
   "cell_type": "code",
   "execution_count": 24,
   "id": "ece69cf5",
   "metadata": {},
   "outputs": [
    {
     "data": {
      "text/plain": [
       "2"
      ]
     },
     "execution_count": 24,
     "metadata": {},
     "output_type": "execute_result"
    }
   ],
   "source": [
    "arr = [24,69,100,99,79,78,67,36,26,19]\n",
    "peakIndexInMountainArray(arr)"
   ]
  },
  {
   "cell_type": "code",
   "execution_count": 26,
   "id": "f20bedfa",
   "metadata": {},
   "outputs": [],
   "source": [
    "## alternatively\n",
    "def peakIndexInMountainArray(arr) -> int:\n",
    "    return arr.index(max(arr))"
   ]
  },
  {
   "cell_type": "code",
   "execution_count": null,
   "id": "a4ab1c1a",
   "metadata": {},
   "outputs": [],
   "source": []
  }
 ],
 "metadata": {
  "kernelspec": {
   "display_name": "Python 3 (ipykernel)",
   "language": "python",
   "name": "python3"
  },
  "language_info": {
   "codemirror_mode": {
    "name": "ipython",
    "version": 3
   },
   "file_extension": ".py",
   "mimetype": "text/x-python",
   "name": "python",
   "nbconvert_exporter": "python",
   "pygments_lexer": "ipython3",
   "version": "3.9.12"
  }
 },
 "nbformat": 4,
 "nbformat_minor": 5
}
