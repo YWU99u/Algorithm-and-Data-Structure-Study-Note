{
 "cells": [
  {
   "cell_type": "code",
   "execution_count": 1,
   "id": "43ba46a2",
   "metadata": {},
   "outputs": [],
   "source": [
    "# The guess API is already defined for you.\n",
    "# @param num, your guess\n",
    "# @return -1 if num is higher than the picked number\n",
    "#          1 if num is lower than the picked number\n",
    "#          otherwise return 0\n",
    "# def guess(num: int) -> int:\n",
    "\n",
    "class Solution:\n",
    "    def guessNumber(self, n: int) -> int:\n",
    "        left = 0\n",
    "        right = n\n",
    "        while left <= right:\n",
    "            pivot = left + (right - left)//2\n",
    "            if guess(pivot) == -1:\n",
    "                right = pivot -1\n",
    "            elif guess(pivot) == 1:\n",
    "                left = pivot + 1\n",
    "            else:\n",
    "                return pivot"
   ]
  },
  {
   "cell_type": "code",
   "execution_count": null,
   "id": "eae0210a",
   "metadata": {},
   "outputs": [],
   "source": []
  }
 ],
 "metadata": {
  "kernelspec": {
   "display_name": "Python 3 (ipykernel)",
   "language": "python",
   "name": "python3"
  },
  "language_info": {
   "codemirror_mode": {
    "name": "ipython",
    "version": 3
   },
   "file_extension": ".py",
   "mimetype": "text/x-python",
   "name": "python",
   "nbconvert_exporter": "python",
   "pygments_lexer": "ipython3",
   "version": "3.9.12"
  }
 },
 "nbformat": 4,
 "nbformat_minor": 5
}
