{
 "cells": [
  {
   "cell_type": "code",
   "execution_count": 8,
   "id": "3c4aa02e",
   "metadata": {},
   "outputs": [],
   "source": [
    "def nextGreatestLetter(letters, target: str) -> str:\n",
    "    target_in_ascii = ord(target)\n",
    "    for letter in letters:\n",
    "        if ord(letter) > target_in_ascii:\n",
    "            return letter\n",
    "    return letters[0]"
   ]
  },
  {
   "cell_type": "code",
   "execution_count": 12,
   "id": "035fdf4f",
   "metadata": {},
   "outputs": [
    {
     "data": {
      "text/plain": [
       "'c'"
      ]
     },
     "execution_count": 12,
     "metadata": {},
     "output_type": "execute_result"
    }
   ],
   "source": [
    "letters = [\"c\",\"f\",\"j\"]\n",
    "target = \"z\"\n",
    "nextGreatestLetter(letters, target)"
   ]
  },
  {
   "cell_type": "code",
   "execution_count": 15,
   "id": "09291fea",
   "metadata": {},
   "outputs": [],
   "source": []
  },
  {
   "cell_type": "code",
   "execution_count": null,
   "id": "035265b1",
   "metadata": {},
   "outputs": [],
   "source": []
  },
  {
   "cell_type": "code",
   "execution_count": null,
   "id": "b84a3601",
   "metadata": {},
   "outputs": [],
   "source": []
  }
 ],
 "metadata": {
  "kernelspec": {
   "display_name": "Python 3 (ipykernel)",
   "language": "python",
   "name": "python3"
  },
  "language_info": {
   "codemirror_mode": {
    "name": "ipython",
    "version": 3
   },
   "file_extension": ".py",
   "mimetype": "text/x-python",
   "name": "python",
   "nbconvert_exporter": "python",
   "pygments_lexer": "ipython3",
   "version": "3.9.12"
  }
 },
 "nbformat": 4,
 "nbformat_minor": 5
}
