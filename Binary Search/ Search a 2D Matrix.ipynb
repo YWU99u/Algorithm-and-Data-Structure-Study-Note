{
 "cells": [
  {
   "cell_type": "code",
   "execution_count": 23,
   "id": "a98c64e7",
   "metadata": {},
   "outputs": [],
   "source": [
    "def searchMatrix(matrix, target):\n",
    "    m = len(matrix) # num_of_row\n",
    "    n = len(matrix[0]) # num_of_col\n",
    "    found = False\n",
    "    first_col = [i[0] for i in matrix]\n",
    "    target_row,found = binary_search(first_col,target)\n",
    "    if not found:\n",
    "        result,found = binary_search(matrix[target_row],target)\n",
    "    return found\n",
    "        \n",
    "        \n",
    "def binary_search(li,target):\n",
    "    l = 0\n",
    "    r = len(li)-1\n",
    "    found = False\n",
    "    while l<=r:\n",
    "        m = l+(r-l)//2\n",
    "        if li[m] < target:\n",
    "            l = m + 1\n",
    "        elif li[m] > target:\n",
    "            r = m - 1\n",
    "        else:\n",
    "            found = True\n",
    "            return m,found\n",
    "    return r,found"
   ]
  },
  {
   "cell_type": "code",
   "execution_count": 26,
   "id": "76a97ac4",
   "metadata": {},
   "outputs": [
    {
     "data": {
      "text/plain": [
       "True"
      ]
     },
     "execution_count": 26,
     "metadata": {},
     "output_type": "execute_result"
    }
   ],
   "source": [
    "matrix = [[1,3,5,7],[10,11,16,20],[23,30,34,60]]\n",
    "target = 30\n",
    "searchMatrix(matrix,target)"
   ]
  },
  {
   "cell_type": "markdown",
   "id": "4ee6e5af",
   "metadata": {},
   "source": [
    "https://leetcode.com/problems/search-a-2d-matrix/submissions/"
   ]
  },
  {
   "cell_type": "code",
   "execution_count": null,
   "id": "1b5dff72",
   "metadata": {},
   "outputs": [],
   "source": []
  }
 ],
 "metadata": {
  "kernelspec": {
   "display_name": "Python 3",
   "language": "python",
   "name": "python3"
  },
  "language_info": {
   "codemirror_mode": {
    "name": "ipython",
    "version": 3
   },
   "file_extension": ".py",
   "mimetype": "text/x-python",
   "name": "python",
   "nbconvert_exporter": "python",
   "pygments_lexer": "ipython3",
   "version": "3.8.8"
  }
 },
 "nbformat": 4,
 "nbformat_minor": 5
}
