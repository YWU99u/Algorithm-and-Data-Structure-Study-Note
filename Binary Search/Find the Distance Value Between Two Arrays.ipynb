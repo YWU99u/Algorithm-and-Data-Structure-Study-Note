{
 "cells": [
  {
   "cell_type": "code",
   "execution_count": 18,
   "id": "4a8a7e30",
   "metadata": {},
   "outputs": [],
   "source": [
    "def findTheDistanceValue(arr1, arr2, d: int) -> int:\n",
    "    count = 0\n",
    "    for dig1 in arr1:\n",
    "        for dig2 in arr2:\n",
    "            if abs(dig1-dig2) <= d:\n",
    "                print(dig1,dig2)\n",
    "                count += 1\n",
    "                break;\n",
    "        \n",
    "    return len(arr1)-count"
   ]
  },
  {
   "cell_type": "code",
   "execution_count": 20,
   "id": "e57d25bb",
   "metadata": {},
   "outputs": [
    {
     "name": "stdout",
     "output_type": "stream",
     "text": [
      "4 6\n",
      "3 6\n"
     ]
    },
    {
     "data": {
      "text/plain": [
       "2"
      ]
     },
     "execution_count": 20,
     "metadata": {},
     "output_type": "execute_result"
    }
   ],
   "source": [
    "arr1 = [1,4,2,3]\n",
    "arr2 = [-4,-3,6,10,20,30]\n",
    "d = 3\n",
    "findTheDistanceValue(arr1,arr2,d)"
   ]
  },
  {
   "cell_type": "code",
   "execution_count": 15,
   "id": "06ad1c5a",
   "metadata": {},
   "outputs": [
    {
     "data": {
      "text/plain": [
       "1"
      ]
     },
     "execution_count": 15,
     "metadata": {},
     "output_type": "execute_result"
    }
   ],
   "source": [
    "abs(-1)"
   ]
  },
  {
   "cell_type": "code",
   "execution_count": null,
   "id": "daf80ee1",
   "metadata": {},
   "outputs": [],
   "source": []
  }
 ],
 "metadata": {
  "kernelspec": {
   "display_name": "Python 3 (ipykernel)",
   "language": "python",
   "name": "python3"
  },
  "language_info": {
   "codemirror_mode": {
    "name": "ipython",
    "version": 3
   },
   "file_extension": ".py",
   "mimetype": "text/x-python",
   "name": "python",
   "nbconvert_exporter": "python",
   "pygments_lexer": "ipython3",
   "version": "3.9.12"
  }
 },
 "nbformat": 4,
 "nbformat_minor": 5
}
