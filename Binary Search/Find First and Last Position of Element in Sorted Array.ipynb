{
 "cells": [
  {
   "cell_type": "code",
   "execution_count": 1,
   "id": "f10b3c41",
   "metadata": {},
   "outputs": [],
   "source": [
    "class Solution:\n",
    "    def searchRange(self, nums: List[int], target: int) -> List[int]:\n",
    "        if len(nums)==0 or target not in nums:\n",
    "            return [-1,-1]\n",
    "        \n",
    "        # approach = binary_search for TC = O(log n)\n",
    "        hi = len(nums)\n",
    "        lo = 0\n",
    "        \n",
    "        # by if condition in this loop, \n",
    "        #     we try to squeeze in towards the last instance \n",
    "        #     of the target number in the list\n",
    "        # so, this gives us the upper boundary\n",
    "        while hi>lo:\n",
    "            mid = (hi+lo)//2\n",
    "            if nums[mid]<=target:\n",
    "                lo = mid+1\n",
    "            else:                       # nums[mid]>target:\n",
    "                hi = mid\n",
    "        upper = hi-1\n",
    "        \n",
    "        # by else part of the condition in this loop, \n",
    "        #     we try to squeeze in towards the first instance \n",
    "        #     of the target number in the list\n",
    "        # so, this gives us the lower boundary\n",
    "        hi = mid\n",
    "        lo = 0\n",
    "        while hi>lo:\n",
    "            mid = (hi+lo)//2\n",
    "            if nums[mid]<target:\n",
    "                lo = mid+1\n",
    "            else:                       # nums[mid]>=target:\n",
    "                hi = mid\n",
    "        lower = hi\n",
    "        \n",
    "        return [lower, upper]"
   ]
  },
  {
   "cell_type": "code",
   "execution_count": 2,
   "id": "0ca2d9da",
   "metadata": {},
   "outputs": [
    {
     "ename": "KeyboardInterrupt",
     "evalue": "",
     "output_type": "error",
     "traceback": [
      "\u001b[0;31m---------------------------------------------------------------------------\u001b[0m",
      "\u001b[0;31mKeyboardInterrupt\u001b[0m                         Traceback (most recent call last)",
      "Input \u001b[0;32mIn [2]\u001b[0m, in \u001b[0;36m<cell line: 3>\u001b[0;34m()\u001b[0m\n\u001b[1;32m      1\u001b[0m nums \u001b[38;5;241m=\u001b[39m [\u001b[38;5;241m5\u001b[39m,\u001b[38;5;241m7\u001b[39m,\u001b[38;5;241m7\u001b[39m,\u001b[38;5;241m8\u001b[39m,\u001b[38;5;241m8\u001b[39m,\u001b[38;5;241m10\u001b[39m]\n\u001b[1;32m      2\u001b[0m target \u001b[38;5;241m=\u001b[39m \u001b[38;5;241m8\u001b[39m\n\u001b[0;32m----> 3\u001b[0m \u001b[43msearchRange\u001b[49m\u001b[43m(\u001b[49m\u001b[43mnums\u001b[49m\u001b[43m,\u001b[49m\u001b[43mtarget\u001b[49m\u001b[43m)\u001b[49m\n",
      "Input \u001b[0;32mIn [1]\u001b[0m, in \u001b[0;36msearchRange\u001b[0;34m(nums, target)\u001b[0m\n\u001b[1;32m      4\u001b[0m ls \u001b[38;5;241m=\u001b[39m []\n\u001b[1;32m      5\u001b[0m \u001b[38;5;28;01mwhile\u001b[39;00m left \u001b[38;5;241m<\u001b[39m\u001b[38;5;241m=\u001b[39m right:\n\u001b[0;32m----> 6\u001b[0m     pivot \u001b[38;5;241m=\u001b[39m left \u001b[38;5;241m+\u001b[39m (\u001b[43mright\u001b[49m\u001b[43m \u001b[49m\u001b[38;5;241;43m-\u001b[39;49m\u001b[43m \u001b[49m\u001b[43mleft\u001b[49m)\u001b[38;5;241m/\u001b[39m\u001b[38;5;241m/\u001b[39m\u001b[38;5;241m2\u001b[39m\n\u001b[1;32m      7\u001b[0m     \u001b[38;5;28;01mif\u001b[39;00m nums[pivot] \u001b[38;5;241m>\u001b[39m target:\n\u001b[1;32m      8\u001b[0m         right \u001b[38;5;241m=\u001b[39m pivot \u001b[38;5;241m-\u001b[39m\u001b[38;5;241m1\u001b[39m\n",
      "\u001b[0;31mKeyboardInterrupt\u001b[0m: "
     ]
    }
   ],
   "source": [
    "nums = [5,7,7,8,8,10]\n",
    "target = 8\n",
    "searchRange(nums,target)"
   ]
  },
  {
   "cell_type": "code",
   "execution_count": null,
   "id": "c6bd88f3",
   "metadata": {},
   "outputs": [],
   "source": [
    "nums[3:]"
   ]
  },
  {
   "cell_type": "code",
   "execution_count": null,
   "id": "cf579f25",
   "metadata": {},
   "outputs": [],
   "source": []
  },
  {
   "cell_type": "code",
   "execution_count": null,
   "id": "f528cf65",
   "metadata": {},
   "outputs": [],
   "source": []
  },
  {
   "cell_type": "code",
   "execution_count": null,
   "id": "cbedfe5f",
   "metadata": {},
   "outputs": [],
   "source": []
  }
 ],
 "metadata": {
  "kernelspec": {
   "display_name": "Python 3 (ipykernel)",
   "language": "python",
   "name": "python3"
  },
  "language_info": {
   "codemirror_mode": {
    "name": "ipython",
    "version": 3
   },
   "file_extension": ".py",
   "mimetype": "text/x-python",
   "name": "python",
   "nbconvert_exporter": "python",
   "pygments_lexer": "ipython3",
   "version": "3.9.12"
  }
 },
 "nbformat": 4,
 "nbformat_minor": 5
}
