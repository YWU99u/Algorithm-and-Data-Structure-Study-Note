{
 "cells": [
  {
   "cell_type": "code",
   "execution_count": 11,
   "id": "cdd0d25f",
   "metadata": {},
   "outputs": [],
   "source": [
    "def searchInsert( nums, target) -> int:\n",
    "    left = 0\n",
    "    right = len(nums) -1\n",
    "    while left<=right:\n",
    "        pivot = left + (right - left)//2\n",
    "        if nums[pivot]<target:\n",
    "            left = pivot + 1\n",
    "        elif nums[pivot]>target:\n",
    "            right = pivot - 1\n",
    "        else:\n",
    "            return pivot\n",
    "    return left"
   ]
  },
  {
   "cell_type": "code",
   "execution_count": 13,
   "id": "d889ae6d",
   "metadata": {},
   "outputs": [
    {
     "data": {
      "text/plain": [
       "1"
      ]
     },
     "execution_count": 13,
     "metadata": {},
     "output_type": "execute_result"
    }
   ],
   "source": [
    "nums = [1,3,5,6]\n",
    "target = 2\n",
    "searchInsert(nums,target)"
   ]
  },
  {
   "cell_type": "code",
   "execution_count": null,
   "id": "1c072d76",
   "metadata": {},
   "outputs": [],
   "source": []
  }
 ],
 "metadata": {
  "kernelspec": {
   "display_name": "Python 3 (ipykernel)",
   "language": "python",
   "name": "python3"
  },
  "language_info": {
   "codemirror_mode": {
    "name": "ipython",
    "version": 3
   },
   "file_extension": ".py",
   "mimetype": "text/x-python",
   "name": "python",
   "nbconvert_exporter": "python",
   "pygments_lexer": "ipython3",
   "version": "3.9.12"
  }
 },
 "nbformat": 4,
 "nbformat_minor": 5
}
