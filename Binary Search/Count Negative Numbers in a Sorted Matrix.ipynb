{
 "cells": [
  {
   "cell_type": "code",
   "execution_count": 69,
   "id": "04dc3e9f",
   "metadata": {},
   "outputs": [],
   "source": [
    "def countNegatives(grid):\n",
    "    # First binary search in rows\n",
    "    # For the first col in the row, once the num is less than zero\n",
    "    # The following li are all negative\n",
    "    \n",
    "    num_row = len(grid)\n",
    "    num_col = len(grid[0])\n",
    "    \n",
    "    # 1. Loop in the first col\n",
    "    first_col = [i[0] for i in grid]\n",
    "    idx = binary_search(first_col,-0.1)\n",
    "    count1 = (num_row-idx)*num_col\n",
    "    # 2. The rest will be above idx row\n",
    "    count2 = 0\n",
    "    for i in range(idx):\n",
    "        idx2 = binary_search(grid[i],-0.1)\n",
    "        count2 += num_col-idx2\n",
    "    print(count1,count2)\n",
    "    return count1+count2\n",
    "    \n",
    "def binary_search(li,target):\n",
    "    # Return the idx of the num by binary search\n",
    "    left = 0\n",
    "    right = len(li)-1\n",
    "    \n",
    "    while left <= right:\n",
    "        pivot = left + (right-left)//2\n",
    "        if li[pivot] > target:\n",
    "            left = pivot + 1\n",
    "        elif li[pivot] < target:\n",
    "            right = pivot - 1\n",
    "        else:\n",
    "            return pivot\n",
    "    return left"
   ]
  },
  {
   "cell_type": "code",
   "execution_count": 67,
   "id": "fda82378",
   "metadata": {},
   "outputs": [
    {
     "name": "stdout",
     "output_type": "stream",
     "text": [
      "0 0\n"
     ]
    },
    {
     "data": {
      "text/plain": [
       "0"
      ]
     },
     "execution_count": 67,
     "metadata": {},
     "output_type": "execute_result"
    }
   ],
   "source": [
    "grid = [[3,2],[1,0]]\n",
    "countNegatives(grid)"
   ]
  },
  {
   "cell_type": "code",
   "execution_count": 71,
   "id": "f1e5e55c",
   "metadata": {},
   "outputs": [
    {
     "ename": "NameError",
     "evalue": "name 'List' is not defined",
     "output_type": "error",
     "traceback": [
      "\u001b[0;31m---------------------------------------------------------------------------\u001b[0m",
      "\u001b[0;31mNameError\u001b[0m                                 Traceback (most recent call last)",
      "\u001b[0;32m<ipython-input-71-7b461761bfe4>\u001b[0m in \u001b[0;36m<module>\u001b[0;34m\u001b[0m\n\u001b[0;32m----> 1\u001b[0;31m \u001b[0;32mdef\u001b[0m \u001b[0mcountNegatives\u001b[0m\u001b[0;34m(\u001b[0m\u001b[0mself\u001b[0m\u001b[0;34m,\u001b[0m \u001b[0mgrid\u001b[0m\u001b[0;34m:\u001b[0m \u001b[0mList\u001b[0m\u001b[0;34m[\u001b[0m\u001b[0mList\u001b[0m\u001b[0;34m[\u001b[0m\u001b[0mint\u001b[0m\u001b[0;34m]\u001b[0m\u001b[0;34m]\u001b[0m\u001b[0;34m)\u001b[0m \u001b[0;34m->\u001b[0m \u001b[0mint\u001b[0m\u001b[0;34m:\u001b[0m\u001b[0;34m\u001b[0m\u001b[0;34m\u001b[0m\u001b[0m\n\u001b[0m\u001b[1;32m      2\u001b[0m     \u001b[0mcount\u001b[0m\u001b[0;34m=\u001b[0m\u001b[0;36m0\u001b[0m\u001b[0;34m\u001b[0m\u001b[0;34m\u001b[0m\u001b[0m\n\u001b[1;32m      3\u001b[0m     \u001b[0;32mfor\u001b[0m \u001b[0mi\u001b[0m \u001b[0;32min\u001b[0m \u001b[0mgrid\u001b[0m\u001b[0;34m:\u001b[0m     \u001b[0;31m# Go in Grid\u001b[0m\u001b[0;34m\u001b[0m\u001b[0;34m\u001b[0m\u001b[0m\n\u001b[1;32m      4\u001b[0m         \u001b[0ml\u001b[0m\u001b[0;34m=\u001b[0m\u001b[0;36m0\u001b[0m\u001b[0;34m\u001b[0m\u001b[0;34m\u001b[0m\u001b[0m\n\u001b[1;32m      5\u001b[0m         \u001b[0mr\u001b[0m\u001b[0;34m=\u001b[0m\u001b[0mlen\u001b[0m\u001b[0;34m(\u001b[0m\u001b[0mi\u001b[0m\u001b[0;34m)\u001b[0m\u001b[0;34m-\u001b[0m\u001b[0;36m1\u001b[0m\u001b[0;34m\u001b[0m\u001b[0;34m\u001b[0m\u001b[0m\n",
      "\u001b[0;31mNameError\u001b[0m: name 'List' is not defined"
     ]
    }
   ],
   "source": [
    "    def countNegatives(self, grid: List[List[int]]) -> int:\n",
    "        count=0\n",
    "        for i in grid:     # Go in Grid\n",
    "            l=0\n",
    "            r=len(i)-1\n",
    "            while l<=r:      \n",
    "                mid=l+(r-l)//2\n",
    "                if i[mid]<0:       #If mid is less than zero , there can be more negative elements to the left so r=mid-1\n",
    "                    r=mid-1\n",
    "                else:\n",
    "                    l=mid+1     #Else move the left pointer to mid+1\n",
    "            count+=len(i)-l     # Left pointer will give you the index where the negative value starts , so the negative values count will be len(i)-l . \n",
    "        return count"
   ]
  },
  {
   "cell_type": "markdown",
   "id": "3eb54c44",
   "metadata": {},
   "source": [
    "https://leetcode.com/problems/count-negative-numbers-in-a-sorted-matrix/discuss/2040769/Binary-Search-Beats-95-PYTHONC%2B%2BJAVA-with-explanation"
   ]
  },
  {
   "cell_type": "code",
   "execution_count": null,
   "id": "816e8be8",
   "metadata": {},
   "outputs": [],
   "source": []
  }
 ],
 "metadata": {
  "kernelspec": {
   "display_name": "Python 3",
   "language": "python",
   "name": "python3"
  },
  "language_info": {
   "codemirror_mode": {
    "name": "ipython",
    "version": 3
   },
   "file_extension": ".py",
   "mimetype": "text/x-python",
   "name": "python",
   "nbconvert_exporter": "python",
   "pygments_lexer": "ipython3",
   "version": "3.8.8"
  }
 },
 "nbformat": 4,
 "nbformat_minor": 5
}
