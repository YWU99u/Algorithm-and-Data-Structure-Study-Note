{
 "cells": [
  {
   "cell_type": "code",
   "execution_count": 21,
   "id": "e38a88f6",
   "metadata": {},
   "outputs": [],
   "source": [
    "def twoSum(numbers, target: int):\n",
    "    l = 0\n",
    "    r = len(numbers) - 1\n",
    "    while l <= r:\n",
    "        if (numbers[l] + numbers[r]) == target:\n",
    "            return [l,r]\n",
    "        elif (numbers[l] + numbers[r]) > target:\n",
    "            r -= 1\n",
    "        else:\n",
    "            l += 1\n",
    "       "
   ]
  },
  {
   "cell_type": "code",
   "execution_count": 22,
   "id": "418db0d9",
   "metadata": {},
   "outputs": [
    {
     "data": {
      "text/plain": [
       "[2, 3]"
      ]
     },
     "execution_count": 22,
     "metadata": {},
     "output_type": "execute_result"
    }
   ],
   "source": [
    "numbers = [-2,-1,0,1]\n",
    "target = 1\n",
    "twoSum(numbers, target)"
   ]
  },
  {
   "cell_type": "code",
   "execution_count": null,
   "id": "3785ca97",
   "metadata": {},
   "outputs": [],
   "source": []
  }
 ],
 "metadata": {
  "kernelspec": {
   "display_name": "Python 3 (ipykernel)",
   "language": "python",
   "name": "python3"
  },
  "language_info": {
   "codemirror_mode": {
    "name": "ipython",
    "version": 3
   },
   "file_extension": ".py",
   "mimetype": "text/x-python",
   "name": "python",
   "nbconvert_exporter": "python",
   "pygments_lexer": "ipython3",
   "version": "3.9.12"
  }
 },
 "nbformat": 4,
 "nbformat_minor": 5
}
