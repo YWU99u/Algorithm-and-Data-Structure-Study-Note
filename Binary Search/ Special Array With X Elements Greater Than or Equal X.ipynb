{
 "cells": [
  {
   "cell_type": "code",
   "execution_count": 38,
   "id": "760e9f76",
   "metadata": {},
   "outputs": [],
   "source": [
    "def specialArray(nums) -> int:\n",
    "    min_num = max(nums) if max(nums)<=len(nums) else len(nums)\n",
    "    for i in range(min_num+1):\n",
    "        count = 0\n",
    "        for num in nums:\n",
    "            if num >= i:\n",
    "                print(i,count)\n",
    "                count += 1\n",
    "            if count > i:\n",
    "                break;\n",
    "        if count == i:\n",
    "            return i\n",
    "    return -1"
   ]
  },
  {
   "cell_type": "code",
   "execution_count": 41,
   "id": "8fc57220",
   "metadata": {},
   "outputs": [
    {
     "name": "stdout",
     "output_type": "stream",
     "text": [
      "0 0\n",
      "1 0\n",
      "1 1\n",
      "2 0\n",
      "2 1\n",
      "2 2\n",
      "3 0\n",
      "3 1\n",
      "3 2\n"
     ]
    },
    {
     "data": {
      "text/plain": [
       "3"
      ]
     },
     "execution_count": 41,
     "metadata": {},
     "output_type": "execute_result"
    }
   ],
   "source": [
    "nums = [0,4,3,0,4]\n",
    "specialArray( nums)"
   ]
  },
  {
   "cell_type": "code",
   "execution_count": 42,
   "id": "bf673a10",
   "metadata": {},
   "outputs": [
    {
     "ename": "NameError",
     "evalue": "name 'List' is not defined",
     "output_type": "error",
     "traceback": [
      "\u001b[0;31m---------------------------------------------------------------------------\u001b[0m",
      "\u001b[0;31mNameError\u001b[0m                                 Traceback (most recent call last)",
      "Input \u001b[0;32mIn [42]\u001b[0m, in \u001b[0;36m<cell line: 2>\u001b[0;34m()\u001b[0m\n\u001b[1;32m      1\u001b[0m \u001b[38;5;66;03m#binary search solution\u001b[39;00m\n\u001b[0;32m----> 2\u001b[0m \u001b[38;5;28;01mdef\u001b[39;00m \u001b[38;5;21mspecialArray\u001b[39m(\u001b[38;5;28mself\u001b[39m, nums: \u001b[43mList\u001b[49m[\u001b[38;5;28mint\u001b[39m]) \u001b[38;5;241m-\u001b[39m\u001b[38;5;241m>\u001b[39m \u001b[38;5;28mint\u001b[39m:\n\u001b[1;32m      3\u001b[0m     l \u001b[38;5;241m=\u001b[39m \u001b[38;5;241m0\u001b[39m\n\u001b[1;32m      4\u001b[0m     r \u001b[38;5;241m=\u001b[39m \u001b[38;5;28mlen\u001b[39m(nums)\n",
      "\u001b[0;31mNameError\u001b[0m: name 'List' is not defined"
     ]
    }
   ],
   "source": [
    "    #binary search solution\n",
    "    def specialArray(self, nums: List[int]) -> int:\n",
    "        l = 0\n",
    "        r = len(nums)\n",
    "        while l <= r:\n",
    "            mid = (l+r)//2\n",
    "            count = 0\n",
    "            for n in nums:\n",
    "                if n >= mid:\n",
    "                    count += 1\n",
    "            if count == mid:\n",
    "                return mid\n",
    "            elif count < mid:\n",
    "                r = mid-1\n",
    "            else:\n",
    "                l = mid+1\n",
    "        return -1"
   ]
  },
  {
   "cell_type": "markdown",
   "id": "62752d7a",
   "metadata": {},
   "source": [
    "https://leetcode.com/problems/special-array-with-x-elements-greater-than-or-equal-x/"
   ]
  },
  {
   "cell_type": "code",
   "execution_count": null,
   "id": "e6405eca",
   "metadata": {},
   "outputs": [],
   "source": []
  }
 ],
 "metadata": {
  "kernelspec": {
   "display_name": "Python 3 (ipykernel)",
   "language": "python",
   "name": "python3"
  },
  "language_info": {
   "codemirror_mode": {
    "name": "ipython",
    "version": 3
   },
   "file_extension": ".py",
   "mimetype": "text/x-python",
   "name": "python",
   "nbconvert_exporter": "python",
   "pygments_lexer": "ipython3",
   "version": "3.9.12"
  }
 },
 "nbformat": 4,
 "nbformat_minor": 5
}
