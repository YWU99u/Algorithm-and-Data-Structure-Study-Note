{
 "cells": [
  {
   "cell_type": "code",
   "execution_count": 7,
   "id": "e409b10f",
   "metadata": {},
   "outputs": [],
   "source": [
    "\n",
    "    def mySqrt( x: int) -> int:\n",
    "        result = 0\n",
    "        num = 0\n",
    "        if x == 0:\n",
    "            return 0\n",
    "        if x == 1 or x == 2:\n",
    "            return 1\n",
    "        low = 0\n",
    "        high = x\n",
    "        mid = (low + high)//2\n",
    "        while low <=high:              \n",
    "            result = mid*mid\n",
    "            if result > x:\n",
    "                high = mid - 1\n",
    "            else:\n",
    "                low = mid + 1\n",
    "            if result == x:\n",
    "                return int(mid)\n",
    "            mid = (low + high)//2\n",
    "        return int(mid)"
   ]
  },
  {
   "cell_type": "code",
   "execution_count": 8,
   "id": "86b6470a",
   "metadata": {},
   "outputs": [
    {
     "data": {
      "text/plain": [
       "395678"
      ]
     },
     "execution_count": 8,
     "metadata": {},
     "output_type": "execute_result"
    }
   ],
   "source": [
    "mySqrt(156561651655)"
   ]
  },
  {
   "cell_type": "code",
   "execution_count": null,
   "id": "a94a8dff",
   "metadata": {},
   "outputs": [],
   "source": []
  }
 ],
 "metadata": {
  "kernelspec": {
   "display_name": "Python 3 (ipykernel)",
   "language": "python",
   "name": "python3"
  },
  "language_info": {
   "codemirror_mode": {
    "name": "ipython",
    "version": 3
   },
   "file_extension": ".py",
   "mimetype": "text/x-python",
   "name": "python",
   "nbconvert_exporter": "python",
   "pygments_lexer": "ipython3",
   "version": "3.9.12"
  }
 },
 "nbformat": 4,
 "nbformat_minor": 5
}
