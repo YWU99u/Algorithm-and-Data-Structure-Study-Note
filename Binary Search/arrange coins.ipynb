{
 "cells": [
  {
   "cell_type": "code",
   "execution_count": 23,
   "id": "b410e8db",
   "metadata": {},
   "outputs": [],
   "source": [
    "def arrangeCoins(n: int) -> int:\n",
    "    left = 1\n",
    "    right = n\n",
    "    while left <= right:\n",
    "        pivot = left + (right-left)//2\n",
    "        summation = ((1+pivot)*pivot)/2\n",
    "        if summation < n:\n",
    "            left = pivot + 1\n",
    "        elif summation >n:\n",
    "            right = pivot - 1\n",
    "        else:\n",
    "            return pivot\n",
    "    return right"
   ]
  },
  {
   "cell_type": "code",
   "execution_count": 24,
   "id": "2124627e",
   "metadata": {},
   "outputs": [
    {
     "data": {
      "text/plain": [
       "4"
      ]
     },
     "execution_count": 24,
     "metadata": {},
     "output_type": "execute_result"
    }
   ],
   "source": [
    "n = 10\n",
    "arrangeCoins(n)"
   ]
  },
  {
   "cell_type": "code",
   "execution_count": null,
   "id": "baa40f1a",
   "metadata": {},
   "outputs": [],
   "source": []
  }
 ],
 "metadata": {
  "kernelspec": {
   "display_name": "Python 3 (ipykernel)",
   "language": "python",
   "name": "python3"
  },
  "language_info": {
   "codemirror_mode": {
    "name": "ipython",
    "version": 3
   },
   "file_extension": ".py",
   "mimetype": "text/x-python",
   "name": "python",
   "nbconvert_exporter": "python",
   "pygments_lexer": "ipython3",
   "version": "3.9.12"
  }
 },
 "nbformat": 4,
 "nbformat_minor": 5
}
