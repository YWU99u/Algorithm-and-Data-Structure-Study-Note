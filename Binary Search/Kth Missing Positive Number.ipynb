{
 "cells": [
  {
   "cell_type": "code",
   "execution_count": 9,
   "id": "1bd2c1ea",
   "metadata": {},
   "outputs": [],
   "source": [
    "def findKthPositive(arr, k: int) -> int:\n",
    "    left = 0\n",
    "    right = len(arr) - 1\n",
    "    \n",
    "    while left <= right:\n",
    "        pivot = left + (right - left)//2\n",
    "        if (arr[pivot] - pivot - 1) < k:  ## the number in the array - (index + 1)\n",
    "            left = pivot + 1\n",
    "        else:\n",
    "            right = pivot - 1\n",
    "    return left + k"
   ]
  },
  {
   "cell_type": "code",
   "execution_count": 10,
   "id": "cfbece46",
   "metadata": {},
   "outputs": [
    {
     "data": {
      "text/plain": [
       "9"
      ]
     },
     "execution_count": 10,
     "metadata": {},
     "output_type": "execute_result"
    }
   ],
   "source": [
    "arr = [2,3,4,7,11]\n",
    "k =5\n",
    "findKthPositive(arr,k)\n"
   ]
  },
  {
   "cell_type": "code",
   "execution_count": null,
   "id": "24267026",
   "metadata": {},
   "outputs": [],
   "source": []
  }
 ],
 "metadata": {
  "kernelspec": {
   "display_name": "Python 3 (ipykernel)",
   "language": "python",
   "name": "python3"
  },
  "language_info": {
   "codemirror_mode": {
    "name": "ipython",
    "version": 3
   },
   "file_extension": ".py",
   "mimetype": "text/x-python",
   "name": "python",
   "nbconvert_exporter": "python",
   "pygments_lexer": "ipython3",
   "version": "3.9.12"
  }
 },
 "nbformat": 4,
 "nbformat_minor": 5
}
