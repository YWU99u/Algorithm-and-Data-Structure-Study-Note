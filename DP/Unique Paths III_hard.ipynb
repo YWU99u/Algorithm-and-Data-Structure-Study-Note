{
 "cells": [
  {
   "cell_type": "code",
   "execution_count": 23,
   "id": "e70d527f",
   "metadata": {},
   "outputs": [],
   "source": [
    "import sys\n",
    "sys.setrecursionlimit(5000)"
   ]
  },
  {
   "cell_type": "code",
   "execution_count": 17,
   "id": "d6e4fd66",
   "metadata": {},
   "outputs": [
    {
     "ename": "NameError",
     "evalue": "name 'List' is not defined",
     "output_type": "error",
     "traceback": [
      "\u001b[0;31m---------------------------------------------------------------------------\u001b[0m",
      "\u001b[0;31mNameError\u001b[0m                                 Traceback (most recent call last)",
      "Input \u001b[0;32mIn [17]\u001b[0m, in \u001b[0;36m<cell line: 1>\u001b[0;34m()\u001b[0m\n\u001b[0;32m----> 1\u001b[0m \u001b[38;5;28;01mclass\u001b[39;00m \u001b[38;5;21;01mSolution\u001b[39;00m:\n\u001b[1;32m      2\u001b[0m     \u001b[38;5;28;01mdef\u001b[39;00m \u001b[38;5;21muniquePathsIII\u001b[39m(\u001b[38;5;28mself\u001b[39m, grid: List[List[\u001b[38;5;28mint\u001b[39m]]) \u001b[38;5;241m-\u001b[39m\u001b[38;5;241m>\u001b[39m \u001b[38;5;28mint\u001b[39m:\n\u001b[1;32m      3\u001b[0m         m, n \u001b[38;5;241m=\u001b[39m \u001b[38;5;28mlen\u001b[39m(grid), \u001b[38;5;28mlen\u001b[39m(grid[\u001b[38;5;241m0\u001b[39m])\n",
      "Input \u001b[0;32mIn [17]\u001b[0m, in \u001b[0;36mSolution\u001b[0;34m()\u001b[0m\n\u001b[1;32m      1\u001b[0m \u001b[38;5;28;01mclass\u001b[39;00m \u001b[38;5;21;01mSolution\u001b[39;00m:\n\u001b[0;32m----> 2\u001b[0m     \u001b[38;5;28;01mdef\u001b[39;00m \u001b[38;5;21muniquePathsIII\u001b[39m(\u001b[38;5;28mself\u001b[39m, grid: \u001b[43mList\u001b[49m[List[\u001b[38;5;28mint\u001b[39m]]) \u001b[38;5;241m-\u001b[39m\u001b[38;5;241m>\u001b[39m \u001b[38;5;28mint\u001b[39m:\n\u001b[1;32m      3\u001b[0m         m, n \u001b[38;5;241m=\u001b[39m \u001b[38;5;28mlen\u001b[39m(grid), \u001b[38;5;28mlen\u001b[39m(grid[\u001b[38;5;241m0\u001b[39m])\n\u001b[1;32m      5\u001b[0m         \u001b[38;5;66;03m# iterate through the grid to get relevant info\u001b[39;00m\n",
      "\u001b[0;31mNameError\u001b[0m: name 'List' is not defined"
     ]
    }
   ],
   "source": [
    "class Solution:\n",
    "    def uniquePathsIII(self, grid: List[List[int]]) -> int:\n",
    "        m, n = len(grid), len(grid[0])\n",
    "        \n",
    "        # iterate through the grid to get relevant info\n",
    "        start = None  # to store starting point\n",
    "        count = 0  # to count number of squares to walk over\n",
    "        for i in range(m):\n",
    "            for j in range(n):\n",
    "                count += grid[i][j] == 0\n",
    "                if not start and grid[i][j] == 1:\n",
    "                    start = (i, j)\n",
    "        \n",
    "        def backtrack(i: int, j: int) -> int:\n",
    "            \"\"\"\n",
    "            Backtracking algo to find all valid paths from (i, j).\n",
    "            :param i: Index of row (where top = 0) of coordinate.\n",
    "            :param j: Index of column (where left = 0) of coordinate.\n",
    "            :returns: Total number of valid paths from (i, j).\n",
    "            \"\"\"\n",
    "            nonlocal count\n",
    "            result = 0\n",
    "            for x, y in ((i-1, j), (i+1, j), (i, j-1), (i, j+1)):\n",
    "                # border check\n",
    "                if 0 <= x < m and 0 <= y < n:\n",
    "                    if grid[x][y] == 0:\n",
    "                        # traverse down this path\n",
    "                        grid[x][y] = -1\n",
    "                        count -= 1\n",
    "                        result += backtrack(x, y)\n",
    "                        # backtrack and reset\n",
    "                        grid[x][y] = 0\n",
    "                        count += 1\n",
    "                    elif grid[x][y] == 2:\n",
    "                        # check if all squares have been walked over\n",
    "                        result += count == 0\n",
    "            return result\n",
    "        \n",
    "        # perform DFS + backtracking to find valid paths\n",
    "        return backtrack(start[0], start[1])"
   ]
  },
  {
   "cell_type": "code",
   "execution_count": 16,
   "id": "2757d66f",
   "metadata": {},
   "outputs": [
    {
     "name": "stdout",
     "output_type": "stream",
     "text": [
      "2 3 [(0, 0), (1, 0), (2, 0), (2, 1), (2, 2)]\n",
      "2 3 [(0, 0), (1, 0), (2, 0), (2, 1), (2, 2), (1, 2), (1, 3)]\n"
     ]
    },
    {
     "data": {
      "text/plain": [
       "1"
      ]
     },
     "execution_count": 16,
     "metadata": {},
     "output_type": "execute_result"
    }
   ],
   "source": [
    "grid = [[1,0,0,0],[0,0,0,0],[0,0,0,2]]\n",
    "uniquePathsIII(grid)"
   ]
  },
  {
   "cell_type": "code",
   "execution_count": null,
   "id": "7c28ba03",
   "metadata": {},
   "outputs": [],
   "source": []
  }
 ],
 "metadata": {
  "kernelspec": {
   "display_name": "Python 3 (ipykernel)",
   "language": "python",
   "name": "python3"
  },
  "language_info": {
   "codemirror_mode": {
    "name": "ipython",
    "version": 3
   },
   "file_extension": ".py",
   "mimetype": "text/x-python",
   "name": "python",
   "nbconvert_exporter": "python",
   "pygments_lexer": "ipython3",
   "version": "3.9.12"
  }
 },
 "nbformat": 4,
 "nbformat_minor": 5
}
