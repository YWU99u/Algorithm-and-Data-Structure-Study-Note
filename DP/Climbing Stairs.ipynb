{
 "cells": [
  {
   "cell_type": "code",
   "execution_count": 1,
   "id": "84606e6d",
   "metadata": {},
   "outputs": [],
   "source": [
    "class Solution:\n",
    "    def climbStairs(self, n: int) -> int:\n",
    "        if n <= 2:\n",
    "            return n\n",
    "        ways = 0\n",
    "\t\t# base cases: starting from i = 3\n",
    "        two_below = 1  # 2 steps below 3 - ways to take 1 step: 1\n",
    "        one_below = 2  # 1 step below 3 - ways to take 2 steps: 2\n",
    "        for i in range(3, n + 1):\n",
    "            ways = one_below + two_below\n",
    "            # we're going one step up to i + 1\n",
    "            # so what was the num ways for 1 step below (i -1)\n",
    "            # is now the num ways for 2 steps below (i + 1 - 2 = i -1)\n",
    "            two_below = one_below\n",
    "            # what was the number of ways for i\n",
    "            # is now the num ways for 1 step below\n",
    "            one_below = ways\n",
    "            \n",
    "        return ways"
   ]
  },
  {
   "cell_type": "markdown",
   "id": "1246c336",
   "metadata": {},
   "source": [
    "Good Reference: https://leetcode.com/problems/climbing-stairs/discuss/1792723/Python-or-In-Depth-Walkthrough-%2B-Explanation-or-DP-Top-Down-%2B-Bottom-Up"
   ]
  },
  {
   "cell_type": "code",
   "execution_count": null,
   "id": "22145114",
   "metadata": {},
   "outputs": [],
   "source": []
  }
 ],
 "metadata": {
  "kernelspec": {
   "display_name": "Python 3 (ipykernel)",
   "language": "python",
   "name": "python3"
  },
  "language_info": {
   "codemirror_mode": {
    "name": "ipython",
    "version": 3
   },
   "file_extension": ".py",
   "mimetype": "text/x-python",
   "name": "python",
   "nbconvert_exporter": "python",
   "pygments_lexer": "ipython3",
   "version": "3.9.12"
  }
 },
 "nbformat": 4,
 "nbformat_minor": 5
}
