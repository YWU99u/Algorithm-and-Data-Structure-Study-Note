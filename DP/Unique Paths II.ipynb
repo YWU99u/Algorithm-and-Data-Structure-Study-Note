{
 "cells": [
  {
   "cell_type": "code",
   "execution_count": 17,
   "id": "707615a2",
   "metadata": {},
   "outputs": [],
   "source": [
    "def uniquePathsWithObstacles(obstacleGrid) -> int:\n",
    "    n,m = len(obstacleGrid[0]),len(obstacleGrid)\n",
    "    def step(row,col):\n",
    "        #check limit\n",
    "        if row < 0 or row > (m-1) or col < 0 or col > (n-1) or obstacleGrid[row][col] == 1:\n",
    "            return 0\n",
    "        # final case --> location found\n",
    "        if row == (m-1) and col == (n-1):\n",
    "            return 1\n",
    "        \n",
    "        # initialize count\n",
    "        count = 0\n",
    "        \n",
    "        # either go to the right for one col or go down for one row\n",
    "        count = step(row+1,col) + step(row,col+1)\n",
    "        return count\n",
    "    return step(0,0)\n",
    "        "
   ]
  },
  {
   "cell_type": "code",
   "execution_count": 19,
   "id": "4b7155f3",
   "metadata": {},
   "outputs": [
    {
     "data": {
      "text/plain": [
       "2"
      ]
     },
     "execution_count": 19,
     "metadata": {},
     "output_type": "execute_result"
    }
   ],
   "source": [
    "obstacleGrid = [[0,0,0],[0,1,0],[0,0,0]]\n",
    "uniquePathsWithObstacles(obstacleGrid)"
   ]
  },
  {
   "cell_type": "markdown",
   "id": "58a5b357",
   "metadata": {},
   "source": [
    "https://leetcode.com/problems/unique-paths-ii/submissions/"
   ]
  },
  {
   "cell_type": "code",
   "execution_count": null,
   "id": "3093d984",
   "metadata": {},
   "outputs": [],
   "source": []
  }
 ],
 "metadata": {
  "kernelspec": {
   "display_name": "Python 3 (ipykernel)",
   "language": "python",
   "name": "python3"
  },
  "language_info": {
   "codemirror_mode": {
    "name": "ipython",
    "version": 3
   },
   "file_extension": ".py",
   "mimetype": "text/x-python",
   "name": "python",
   "nbconvert_exporter": "python",
   "pygments_lexer": "ipython3",
   "version": "3.9.12"
  }
 },
 "nbformat": 4,
 "nbformat_minor": 5
}
