{
 "cells": [
  {
   "cell_type": "code",
   "execution_count": 41,
   "id": "8660ce81",
   "metadata": {},
   "outputs": [],
   "source": [
    "def generate(numRows: int):\n",
    "    result = [[0],[1]]\n",
    "    if numRows == 1:\n",
    "        return result[1:]\n",
    "    else:\n",
    "        for i in range(2,numRows+1):\n",
    "            tmp=[1]\n",
    "            for j in range(len(result[i-1])-1):\n",
    "                tmp.append(result[i-1][j]+result[i-1][j+1])\n",
    "            tmp.append(1)\n",
    "            result.append(tmp)\n",
    "    return result[1:]\n",
    "            "
   ]
  },
  {
   "cell_type": "code",
   "execution_count": 43,
   "id": "48e03382",
   "metadata": {},
   "outputs": [
    {
     "data": {
      "text/plain": [
       "[[1]]"
      ]
     },
     "execution_count": 43,
     "metadata": {},
     "output_type": "execute_result"
    }
   ],
   "source": [
    "generate(1)"
   ]
  },
  {
   "cell_type": "markdown",
   "id": "5af39391",
   "metadata": {},
   "source": [
    "https://leetcode.com/problems/pascals-triangle/submissions/"
   ]
  },
  {
   "cell_type": "code",
   "execution_count": null,
   "id": "cc0f0c8f",
   "metadata": {},
   "outputs": [],
   "source": []
  }
 ],
 "metadata": {
  "kernelspec": {
   "display_name": "Python 3 (ipykernel)",
   "language": "python",
   "name": "python3"
  },
  "language_info": {
   "codemirror_mode": {
    "name": "ipython",
    "version": 3
   },
   "file_extension": ".py",
   "mimetype": "text/x-python",
   "name": "python",
   "nbconvert_exporter": "python",
   "pygments_lexer": "ipython3",
   "version": "3.9.12"
  }
 },
 "nbformat": 4,
 "nbformat_minor": 5
}
