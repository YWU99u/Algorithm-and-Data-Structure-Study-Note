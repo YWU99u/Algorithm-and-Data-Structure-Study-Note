{
 "cells": [
  {
   "cell_type": "code",
   "execution_count": 163,
   "id": "fd21e2e1",
   "metadata": {},
   "outputs": [],
   "source": [
    "    def romanToInt(s: str) -> int:\n",
    "        n = 0\n",
    "        d = {'M': 1000, 'D': 500, 'C': 100, 'L': 50, 'X': 10, 'V': 5, 'I': 1}    \n",
    "        prev = 1001\n",
    "        for c in s:\n",
    "            if(prev < d[c]):\n",
    "                n += (d[c]-prev-prev)\n",
    "                prev = d[c]\n",
    "            else:\n",
    "                n += d[c]\n",
    "                prev = d[c]\n",
    "        return n"
   ]
  },
  {
   "cell_type": "code",
   "execution_count": null,
   "id": "03397544",
   "metadata": {},
   "outputs": [],
   "source": []
  },
  {
   "cell_type": "code",
   "execution_count": 164,
   "id": "59acb796",
   "metadata": {},
   "outputs": [
    {
     "data": {
      "text/plain": [
       "1996"
      ]
     },
     "execution_count": 164,
     "metadata": {},
     "output_type": "execute_result"
    }
   ],
   "source": [
    "string = \"MCMXCVI\"\n",
    "\n",
    "romanToInt(string)"
   ]
  },
  {
   "cell_type": "code",
   "execution_count": null,
   "id": "7bf50ac2",
   "metadata": {},
   "outputs": [],
   "source": []
  },
  {
   "cell_type": "code",
   "execution_count": null,
   "id": "b89667c6",
   "metadata": {},
   "outputs": [],
   "source": []
  }
 ],
 "metadata": {
  "kernelspec": {
   "display_name": "Python 3 (ipykernel)",
   "language": "python",
   "name": "python3"
  },
  "language_info": {
   "codemirror_mode": {
    "name": "ipython",
    "version": 3
   },
   "file_extension": ".py",
   "mimetype": "text/x-python",
   "name": "python",
   "nbconvert_exporter": "python",
   "pygments_lexer": "ipython3",
   "version": "3.9.12"
  }
 },
 "nbformat": 4,
 "nbformat_minor": 5
}
